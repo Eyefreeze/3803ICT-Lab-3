{
 "cells": [
  {
   "cell_type": "code",
   "execution_count": 1,
   "metadata": {},
   "outputs": [
    {
     "data": {
      "text/plain": [
       "months    int64\n",
       "sales     int64\n",
       "dtype: object"
      ]
     },
     "execution_count": 1,
     "metadata": {},
     "output_type": "execute_result"
    }
   ],
   "source": [
    "import pandas as pd\n",
    "import numpy as np\n",
    "import matplotlib.pyplot as plt\n",
    "\n",
    "months = [*range(1, 13)]\n",
    "sales = [5384, 8081, 10282, 9156, 6118, 9139,\n",
    "         12460, 10717, 7825, 9693, 15177, 10990]\n",
    "\n",
    "data = {'months' : [*range(1, 13)],'sales':[5384, 8081, 10282, 9156, 6118, 9139, 12460, 10717, 7825, 9693, 15177, 10990]}\n",
    "df = pd.DataFrame(data)\n",
    "\n",
    "df.dtypes\n",
    "\n",
    "# plt.plot(months, sales, label=\"Actual\", color=\"Blue\", marker='o')\n",
    "# plt.legend()\n",
    "# plt.xlabel('Period')\n",
    "# plt.ylabel('Sales')\n",
    "# plt.xticks([i for i in range(1,len(months)+1,1)])\n",
    "# plt.show()"
   ]
  },
  {
   "cell_type": "code",
   "execution_count": 2,
   "metadata": {},
   "outputs": [
    {
     "data": {
      "text/plain": [
       "months      int64\n",
       "sales     float64\n",
       "3MMA      float64\n",
       "dtype: object"
      ]
     },
     "execution_count": 2,
     "metadata": {},
     "output_type": "execute_result"
    }
   ],
   "source": [
    "for i in range(0,df.shape[0]-3):\n",
    "    df.loc[df.index[i+3],'3MMA'] = np.round(((df.iloc[i,1]+ df.iloc[i+1,1] +df.iloc[i+2,1])/3),1)\n",
    "\n",
    "month13 = (9693+15177+10990)/3\n",
    "month14 = (15177+10990+month13)/3\n",
    "month15 = (10990+month13+month14)/3\n",
    "\n",
    "df2 = pd.DataFrame({\"months\":[13, 14, 15],\n",
    "                    \"sales\":[np.nan, np.nan, np.nan],\n",
    "                   \"3MMA\":[month13, month14, month15]})\n",
    "\n",
    "df = df.append(df2, ignore_index=True)\n",
    "df.dtypes"
   ]
  },
  {
   "cell_type": "code",
   "execution_count": 3,
   "metadata": {},
   "outputs": [
    {
     "data": {
      "text/plain": [
       "<matplotlib.legend.Legend at 0x2d115928108>"
      ]
     },
     "execution_count": 3,
     "metadata": {},
     "output_type": "execute_result"
    },
    {
     "data": {
      "image/png": "[encoded data removed]",
      "text/plain": [
       "<Figure size 432x288 with 1 Axes>"
      ]
     },
     "metadata": {
      "needs_background": "light"
     },
     "output_type": "display_data"
    }
   ],
   "source": [
    "plt.plot(df['months'],df['sales'],label=\"Actual\", color=\"Blue\", marker='o')\n",
    "plt.plot(df['months'],df['3MMA'],label='3 Month Moving Average', color=\"Green\", marker='o')\n",
    "plt.xlabel('Period')\n",
    "plt.ylabel('Sales')\n",
    "plt.xticks([k for k in range(1,16+1,1)])\n",
    "plt.legend()"
   ]
  },
  {
   "cell_type": "code",
   "execution_count": 18,
   "metadata": {},
   "outputs": [
    {
     "data": {
      "text/html": [
       "<div>\n",
       "<style scoped>\n",
       "    .dataframe tbody tr th:only-of-type {\n",
       "        vertical-align: middle;\n",
       "    }\n",
       "\n",
       "    .dataframe tbody tr th {\n",
       "        vertical-align: top;\n",
       "    }\n",
       "\n",
       "    .dataframe thead th {\n",
       "        text-align: right;\n",
       "    }\n",
       "</style>\n",
       "<table border=\"1\" class=\"dataframe\">\n",
       "  <thead>\n",
       "    <tr style=\"text-align: right;\">\n",
       "      <th></th>\n",
       "      <th>months</th>\n",
       "      <th>sales</th>\n",
       "      <th>3MMA</th>\n",
       "      <th>a=0.8</th>\n",
       "      <th>a=0.2</th>\n",
       "    </tr>\n",
       "  </thead>\n",
       "  <tbody>\n",
       "    <tr>\n",
       "      <td>0</td>\n",
       "      <td>1</td>\n",
       "      <td>5384.0</td>\n",
       "      <td>NaN</td>\n",
       "      <td>NaN</td>\n",
       "      <td>NaN</td>\n",
       "    </tr>\n",
       "    <tr>\n",
       "      <td>1</td>\n",
       "      <td>2</td>\n",
       "      <td>8081.0</td>\n",
       "      <td>NaN</td>\n",
       "      <td>NaN</td>\n",
       "      <td>NaN</td>\n",
       "    </tr>\n",
       "    <tr>\n",
       "      <td>2</td>\n",
       "      <td>3</td>\n",
       "      <td>10282.0</td>\n",
       "      <td>NaN</td>\n",
       "      <td>NaN</td>\n",
       "      <td>NaN</td>\n",
       "    </tr>\n",
       "    <tr>\n",
       "      <td>3</td>\n",
       "      <td>4</td>\n",
       "      <td>9156.0</td>\n",
       "      <td>7915.700000</td>\n",
       "      <td>NaN</td>\n",
       "      <td>NaN</td>\n",
       "    </tr>\n",
       "    <tr>\n",
       "      <td>4</td>\n",
       "      <td>5</td>\n",
       "      <td>6118.0</td>\n",
       "      <td>9173.000000</td>\n",
       "      <td>8907.9</td>\n",
       "      <td>8163.8</td>\n",
       "    </tr>\n",
       "    <tr>\n",
       "      <td>5</td>\n",
       "      <td>6</td>\n",
       "      <td>9139.0</td>\n",
       "      <td>8518.700000</td>\n",
       "      <td>6729.0</td>\n",
       "      <td>8562.0</td>\n",
       "    </tr>\n",
       "    <tr>\n",
       "      <td>6</td>\n",
       "      <td>7</td>\n",
       "      <td>12460.0</td>\n",
       "      <td>8137.700000</td>\n",
       "      <td>9014.9</td>\n",
       "      <td>8642.8</td>\n",
       "    </tr>\n",
       "    <tr>\n",
       "      <td>7</td>\n",
       "      <td>8</td>\n",
       "      <td>10717.0</td>\n",
       "      <td>9239.000000</td>\n",
       "      <td>11595.5</td>\n",
       "      <td>9002.2</td>\n",
       "    </tr>\n",
       "    <tr>\n",
       "      <td>8</td>\n",
       "      <td>9</td>\n",
       "      <td>7825.0</td>\n",
       "      <td>10772.000000</td>\n",
       "      <td>10407.4</td>\n",
       "      <td>10352.3</td>\n",
       "    </tr>\n",
       "    <tr>\n",
       "      <td>9</td>\n",
       "      <td>10</td>\n",
       "      <td>9693.0</td>\n",
       "      <td>10334.000000</td>\n",
       "      <td>5780.1</td>\n",
       "      <td>7548.3</td>\n",
       "    </tr>\n",
       "    <tr>\n",
       "      <td>10</td>\n",
       "      <td>11</td>\n",
       "      <td>15177.0</td>\n",
       "      <td>9411.700000</td>\n",
       "      <td>8726.2</td>\n",
       "      <td>9110.8</td>\n",
       "    </tr>\n",
       "    <tr>\n",
       "      <td>11</td>\n",
       "      <td>12</td>\n",
       "      <td>10990.0</td>\n",
       "      <td>10898.300000</td>\n",
       "      <td>14023.9</td>\n",
       "      <td>10564.8</td>\n",
       "    </tr>\n",
       "    <tr>\n",
       "      <td>12</td>\n",
       "      <td>13</td>\n",
       "      <td>NaN</td>\n",
       "      <td>11953.333333</td>\n",
       "      <td>10971.7</td>\n",
       "      <td>10916.6</td>\n",
       "    </tr>\n",
       "    <tr>\n",
       "      <td>13</td>\n",
       "      <td>14</td>\n",
       "      <td>NaN</td>\n",
       "      <td>12706.777778</td>\n",
       "      <td>NaN</td>\n",
       "      <td>NaN</td>\n",
       "    </tr>\n",
       "    <tr>\n",
       "      <td>14</td>\n",
       "      <td>15</td>\n",
       "      <td>NaN</td>\n",
       "      <td>11883.370370</td>\n",
       "      <td>NaN</td>\n",
       "      <td>NaN</td>\n",
       "    </tr>\n",
       "  </tbody>\n",
       "</table>\n",
       "</div>"
      ],
      "text/plain": [
       "    months    sales          3MMA    a=0.8    a=0.2\n",
       "0        1   5384.0           NaN      NaN      NaN\n",
       "1        2   8081.0           NaN      NaN      NaN\n",
       "2        3  10282.0           NaN      NaN      NaN\n",
       "3        4   9156.0   7915.700000      NaN      NaN\n",
       "4        5   6118.0   9173.000000   8907.9   8163.8\n",
       "5        6   9139.0   8518.700000   6729.0   8562.0\n",
       "6        7  12460.0   8137.700000   9014.9   8642.8\n",
       "7        8  10717.0   9239.000000  11595.5   9002.2\n",
       "8        9   7825.0  10772.000000  10407.4  10352.3\n",
       "9       10   9693.0  10334.000000   5780.1   7548.3\n",
       "10      11  15177.0   9411.700000   8726.2   9110.8\n",
       "11      12  10990.0  10898.300000  14023.9  10564.8\n",
       "12      13      NaN  11953.333333  10971.7  10916.6\n",
       "13      14      NaN  12706.777778      NaN      NaN\n",
       "14      15      NaN  11883.370370      NaN      NaN"
      ]
     },
     "execution_count": 18,
     "metadata": {},
     "output_type": "execute_result"
    }
   ],
   "source": [
    "for i in range(0,df.shape[0]-3):\n",
    "    df.loc[df.index[i-4],'a=0.8'] = np.round((df.iloc[i-5,2])+ 0.8*((df.iloc[i-5,1])-(df.iloc[i-5,2])),1)\n",
    "for i in range(0,df.shape[0]-3):\n",
    "    df.loc[df.index[i-4],'a=0.2'] = np.round((df.iloc[i-5,2])+ 0.2*((df.iloc[i-5,1])-(df.iloc[i-5,2])),1)\n",
    "\n",
    "df"
   ]
  },
  {
   "cell_type": "code",
   "execution_count": 19,
   "metadata": {},
   "outputs": [
    {
     "data": {
      "text/plain": [
       "<matplotlib.legend.Legend at 0x2d115cd8dc8>"
      ]
     },
     "execution_count": 19,
     "metadata": {},
     "output_type": "execute_result"
    },
    {
     "data": {
      "image/png": "[encoded data removed]",
      "text/plain": [
       "<Figure size 432x288 with 1 Axes>"
      ]
     },
     "metadata": {
      "needs_background": "light"
     },
     "output_type": "display_data"
    }
   ],
   "source": [
    "plt.plot(df['months'],df['sales'],label=\"Actual\", color=\"Blue\", marker='o')\n",
    "plt.plot(df['months'],df['a=0.2'],label='a = 0.2', color=\"Green\", marker='o')\n",
    "plt.plot(df['months'],df['a=0.8'],label='a = 0.8', color=\"Red\", marker='o')\n",
    "plt.xlabel('Period')\n",
    "plt.ylabel('Sales')\n",
    "plt.xticks([k for k in range(1,13+1,1)])\n",
    "plt.legend()"
   ]
  }
 ],
 "metadata": {
  "kernelspec": {
   "display_name": "Python 3",
   "language": "python",
   "name": "python3"
  },
  "language_info": {
   "codemirror_mode": {
    "name": "ipython",
    "version": 3
   },
   "file_extension": ".py",
   "mimetype": "text/x-python",
   "name": "python",
   "nbconvert_exporter": "python",
   "pygments_lexer": "ipython3",
   "version": "3.7.4"
  }
 },
 "nbformat": 4,
 "nbformat_minor": 2
}
